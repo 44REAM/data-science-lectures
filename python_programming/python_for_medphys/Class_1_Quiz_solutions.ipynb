{
  "nbformat": 4,
  "nbformat_minor": 0,
  "metadata": {
    "colab": {
      "provenance": [],
      "include_colab_link": true
    },
    "kernelspec": {
      "name": "python3",
      "display_name": "Python 3"
    },
    "language_info": {
      "name": "python"
    }
  },
  "cells": [
    {
      "cell_type": "markdown",
      "metadata": {
        "id": "view-in-github",
        "colab_type": "text"
      },
      "source": [
        "<a href=\"https://colab.research.google.com/github/44REAM/RA-Medphys/blob/main/Class_1_Quiz_solutions.ipynb\" target=\"_parent\"><img src=\"https://colab.research.google.com/assets/colab-badge.svg\" alt=\"Open In Colab\"/></a>"
      ]
    },
    {
      "cell_type": "markdown",
      "source": [
        "## Quiz 1\n",
        "\n",
        "เขียน function ชื่อว่า your_function บวกเลขจำนวนเต็มตั้งแต่ 0 ถึง x เช่น\n",
        "\n",
        "input\n",
        "```\n",
        "your_function(5)\n",
        "```\n",
        "output:\n",
        "```\n",
        "15\n",
        "```\n",
        "Explaination: 1+2+3+4+5 = 15\n",
        "\n",
        "Note: ตั้งชื่อ function ให้ตรงกับข้างบนด้วย (ชื่อ your_function)"
      ],
      "metadata": {
        "id": "fCGRTh5Xs3Hu"
      }
    },
    {
      "cell_type": "code",
      "execution_count": null,
      "metadata": {
        "id": "cuoqc724sEv6",
        "colab": {
          "base_uri": "https://localhost:8080/"
        },
        "outputId": "12042fe0-89b3-404a-e2af-74d5a1273eaf"
      },
      "outputs": [
        {
          "output_type": "execute_result",
          "data": {
            "text/plain": [
              "21"
            ]
          },
          "metadata": {},
          "execution_count": 15
        }
      ],
      "source": [
        "\n",
        "def your_function(n):\n",
        "  sum = 0\n",
        "  for i in range(1,n+1):\n",
        "    sum = sum + i\n",
        "  return sum\n",
        "\n",
        "def your_function(n):\n",
        "  sum = 0\n",
        "  for i in range(n+1):\n",
        "    sum = sum + i\n",
        "  return sum\n",
        "\n",
        "def your_function(n):\n",
        "  sum = 0\n",
        "  for i in range(n):\n",
        "    sum = sum + i +1\n",
        "  return sum\n",
        "\n",
        "def your_function(n):\n",
        "    return sum(range(n+1))\n",
        "\n",
        "def your_function(x):\n",
        "    a=x\n",
        "    while (x!=0):\n",
        "      a = a+(x-1)\n",
        "      x = x-1\n",
        "    return a\n",
        "\n",
        "def your_function(x):\n",
        "    a=0\n",
        "    while (x!=0):\n",
        "      a = a+x\n",
        "      x = x-1\n",
        "    return a\n",
        "\n",
        "def your_function(n):\n",
        "  total = 0\n",
        "  for i in range(1,n+1):\n",
        "    if i <= n:\n",
        "      total = total + i\n",
        "  return total\n",
        "\n",
        "your_function(6)"
      ]
    },
    {
      "cell_type": "code",
      "source": [
        "type(range(6))"
      ],
      "metadata": {
        "id": "ceMtoZ2goTkx",
        "outputId": "780602ce-fc46-4349-cc56-51a6de229b91",
        "colab": {
          "base_uri": "https://localhost:8080/"
        }
      },
      "execution_count": null,
      "outputs": [
        {
          "output_type": "execute_result",
          "data": {
            "text/plain": [
              "range"
            ]
          },
          "metadata": {},
          "execution_count": 11
        }
      ]
    },
    {
      "cell_type": "code",
      "source": [
        "sum(range(6))"
      ],
      "metadata": {
        "id": "NJ7EI2xDoEx1",
        "outputId": "597af3b0-c258-455d-d928-941224876393",
        "colab": {
          "base_uri": "https://localhost:8080/"
        }
      },
      "execution_count": null,
      "outputs": [
        {
          "output_type": "execute_result",
          "data": {
            "text/plain": [
              "15"
            ]
          },
          "metadata": {},
          "execution_count": 7
        }
      ]
    },
    {
      "cell_type": "markdown",
      "source": [
        "# Quiz 2\n",
        "\n",
        "ให้เขียน function ชื่อว่า your_function เพื่อที่จะคำนวณสมการ $f(x) = x^2 + 3x + 1$\n",
        "\n",
        "input\n",
        "```\n",
        "your_function(2)\n",
        "```\n",
        "output:\n",
        "```\n",
        "11\n",
        "```\n",
        "\n"
      ],
      "metadata": {
        "id": "SAcboYhburtT"
      }
    },
    {
      "cell_type": "code",
      "source": [
        "def your_function(n):\n",
        "  x = n**2+3*n+1\n",
        "  return x\n",
        "your_function(2)"
      ],
      "metadata": {
        "id": "eATNdRbQvCkC",
        "colab": {
          "base_uri": "https://localhost:8080/"
        },
        "outputId": "fd6a3a59-02a3-4c4d-bc0e-551e31a1b69b"
      },
      "execution_count": null,
      "outputs": [
        {
          "output_type": "execute_result",
          "data": {
            "text/plain": [
              "11"
            ]
          },
          "metadata": {},
          "execution_count": 2
        }
      ]
    },
    {
      "cell_type": "markdown",
      "source": [
        "# Quiz 3\n",
        "\n",
        "ให้เขียน function ชื่อว่า your_function เพื่อที่จะคำนวณสมการ $f(x) = |x|$\n",
        "\n",
        "input\n",
        "```\n",
        "your_function(-15)\n",
        "```\n",
        "output:\n",
        "```\n",
        "15\n",
        "```"
      ],
      "metadata": {
        "id": "NdrtWPHovOTA"
      }
    },
    {
      "cell_type": "code",
      "source": [
        "def your_function(n):\n",
        "    x = abs(n)\n",
        "    return x\n",
        "\n",
        "def your_function(x):\n",
        "    if (x>=0):\n",
        "        print(x)\n",
        "    else:\n",
        "        print(-x)\n",
        "\n",
        "def your_function(x):\n",
        "    if(x>0):\n",
        "        x=x\n",
        "    elif(x<0):\n",
        "        x=-x\n",
        "    else:\n",
        "        x=0\n",
        "    return x\n",
        "\n",
        "def your_function(x):\n",
        "    return abs(x)\n",
        "\n",
        "def your_function(x):\n",
        "    if (x>=0):\n",
        "        return x\n",
        "    return -x\n",
        "\n",
        "your_function(-15)"
      ],
      "metadata": {
        "id": "wOkoBncgvkO4",
        "colab": {
          "base_uri": "https://localhost:8080/"
        },
        "outputId": "cd34fce9-fc7d-4be4-9898-76d8e45f8f59"
      },
      "execution_count": null,
      "outputs": [
        {
          "output_type": "execute_result",
          "data": {
            "text/plain": [
              "15"
            ]
          },
          "metadata": {},
          "execution_count": 16
        }
      ]
    }
  ]
}