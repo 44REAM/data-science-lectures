{
  "nbformat": 4,
  "nbformat_minor": 0,
  "metadata": {
    "colab": {
      "provenance": [],
      "authorship_tag": "ABX9TyOsE8O22EFbckF26Vl+O5zs",
      "include_colab_link": true
    },
    "kernelspec": {
      "name": "python3",
      "display_name": "Python 3"
    },
    "language_info": {
      "name": "python"
    }
  },
  "cells": [
    {
      "cell_type": "markdown",
      "metadata": {
        "id": "view-in-github",
        "colab_type": "text"
      },
      "source": [
        "<a href=\"https://colab.research.google.com/github/44REAM/RA-Medphys/blob/main/Quiz_1_2024.ipynb\" target=\"_parent\"><img src=\"https://colab.research.google.com/assets/colab-badge.svg\" alt=\"Open In Colab\"/></a>"
      ]
    },
    {
      "cell_type": "markdown",
      "source": [
        "1. ให้คุณเขียนโปรแกรม Python ที่รับตัวเลขจำนวนเต็มบวก N และคำนวณผลรวมของจำนวนที่หารด้วย 3 หรือ 5 ลงตัว ตั้งแต่ 1 ถึง N\n",
        "\n",
        "ตัวอย่าง:\n",
        "\n",
        "กรุณาใส่ตัวเลข N: 10\n",
        "\n",
        "จำนวนที่หารด้วย 3 หรือ 5 ลงตัว: 3, 5, 6, 9\n",
        "\n",
        "ผลรวม: 23"
      ],
      "metadata": {
        "id": "LxsrDMW0MdOd"
      }
    },
    {
      "cell_type": "code",
      "source": [
        "def your_function(N):\n",
        "    pass\n",
        "    # your code"
      ],
      "metadata": {
        "id": "0omMdD9kMh0R"
      },
      "execution_count": null,
      "outputs": []
    },
    {
      "cell_type": "markdown",
      "source": [
        "2. โจทย์การเขียนโปรแกรมเพื่อหาจำนวน Fibonacci (Fibonacci Sequence):\n",
        "ให้คุณเขียนโปรแกรม Python ที่รับตัวเลขจำนวนเต็มบวก N และแสดงลำดับของจำนวน Fibonacci จำนวน N ตัวแรก\n",
        "\n",
        "ตัวอย่าง:\n",
        "\n",
        "กรุณาใส่จำนวน N: 6\n",
        "\n",
        "ลำดับของจำนวน Fibonacci 6 ตัวแรก: 0, 1, 1, 2, 3, 5"
      ],
      "metadata": {
        "id": "kFtXmbSHMuyC"
      }
    },
    {
      "cell_type": "code",
      "source": [
        "def your_function(N):\n",
        "    pass\n",
        "    # your code"
      ],
      "metadata": {
        "id": "StMcHeM0Mfbb"
      },
      "execution_count": null,
      "outputs": []
    },
    {
      "cell_type": "markdown",
      "source": [
        "3. จงเขียนโปรแกรมรับค่าปี ค.ศ. จากนั้นให้แสดงผลปี พ.ศ.\n",
        "\n",
        "ตัวอย่าง:\n",
        "\n",
        "กรุณาใส่คศ N: 1994\n",
        "\n",
        "output: 2537"
      ],
      "metadata": {
        "id": "gAA-FNIbN7rc"
      }
    },
    {
      "cell_type": "code",
      "source": [
        "def your_function(N):\n",
        "    pass\n",
        "    # your code"
      ],
      "metadata": {
        "id": "AJ0cqarCODVN"
      },
      "execution_count": null,
      "outputs": []
    }
  ]
}