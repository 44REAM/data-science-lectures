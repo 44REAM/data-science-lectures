{
  "cells": [
    {
      "cell_type": "markdown",
      "metadata": {
        "id": "view-in-github",
        "colab_type": "text"
      },
      "source": [
        "<a href=\"https://colab.research.google.com/github/44REAM/RA-Medphys/blob/main/exam.ipynb\" target=\"_parent\"><img src=\"https://colab.research.google.com/assets/colab-badge.svg\" alt=\"Open In Colab\"/></a>"
      ]
    },
    {
      "cell_type": "markdown",
      "metadata": {
        "id": "W_2_p3kN6g95"
      },
      "source": [
        "# Quiz machine learning (20%)\n"
      ]
    },
    {
      "cell_type": "markdown",
      "metadata": {
        "id": "SCtIDEKF6g99"
      },
      "source": [
        "1. ถ้าเราต้องการสร้างโมเดลเพื่อที่จะ classify ชุดข้อมูลรูปภาพที่นำมาให้โมเดลเรียนเรียกว่าอะไร (ตอบข้อที่ถูกที่สุดข้อเดียว ไม่ต้องอธิบายก็ได้)\n",
        "\n",
        "- Test Set\n",
        "- Validation set\n",
        "- Training set"
      ]
    },
    {
      "cell_type": "markdown",
      "metadata": {
        "id": "ZPolLZ786g9-"
      },
      "source": [
        "2. ทำไมเราถึงต้องมี validation set ในการทำ machine learning (ตอบสั้นๆ ไม่เกิน 5 บรรทัด)"
      ]
    },
    {
      "cell_type": "markdown",
      "metadata": {
        "id": "xCyQvppT6g-A"
      },
      "source": [
        "3. ประเภทของ machine learning ที่พยายามวิเคราะห์ข้อมูลที่ไม่มี label (target) เรียกว่าอะไร (ตอบข้อที่ถูกที่สุดข้อเดียว ไม่ต้องอธิบายก็ได้)\n",
        "\n",
        "- supervised learning\n",
        "- unsupervised learning\n",
        "- semi-supervised learning\n",
        "- reinforcement learning"
      ]
    },
    {
      "cell_type": "markdown",
      "metadata": {
        "id": "6jceukqk6g-B"
      },
      "source": [
        "4. ข้อใดไม่จัดว่าเป็น hyperparameter (ตอบได้หลายข้อ ไม่ต้องอธิบายก็ได้)\n",
        "\n",
        "- Learning rate\n",
        "- parameter k (จำนวน cluster) ใน k nearest neighbour algorithm\n",
        "- parameter $m$ ในสมการ $y = mx+c$ ใน linear regression\n",
        "- number of layer in neural network\n",
        "- จำนวนครั้งในการปรับค่า parameter (number of iterations หรือเรียกว่า epochs) ใน algorithm gradient descent"
      ]
    },
    {
      "cell_type": "markdown",
      "metadata": {
        "id": "HD_QOq9z6g-C"
      },
      "source": [
        "# Exam (40%)\n",
        "\n",
        "1. ทุกข้อห้าม import library ใดๆในการทำ\n",
        "2. ใช้ function นอกจากที่เคยสอนได้ แต่ไม่จำเป็น"
      ]
    },
    {
      "cell_type": "markdown",
      "metadata": {
        "id": "QOLz2Gln6g-D"
      },
      "source": [
        "## Question 1: Simple SD\n",
        "\n",
        "Standard deviation (SD) ของข้อมูลใน list ใดๆ โดย Standard deviation สามารถหาได้จาก\n",
        "\n",
        "$$SD = \\sqrt{\\sum \\frac{(x_i - \\bar{x})^2}{n-1}}$$\n",
        "\n",
        "เมื่อ $x_i$ เป็น item ตัวที่ $i$ ใน list, $\\bar{x}$ เป็นค่าเฉลี่ยของ item ใน list และ $n$ เป็นจำนวน item ใน list (จำนวนข้อมูลใน list จะมากกว่า 2 ตัวเสมอ เพื่อป้องกันการหารด้วย 0)\n",
        "\n",
        "เขียน function ชื่อ my_square_root รับ input 1 ค่า\n",
        "1.   x เป็น list of float: list ของตัวเลขที่ต้องการหาค่า SD โดย item ใน list จะเป็น float number\n",
        "-   output ของ function จะเป็น SD ของตัวเลขใน list นั้น\n",
        "\n",
        "\n",
        "**example input**\n",
        "```python\n",
        "x = [1,2,3]\n",
        "my_square_root(x)\n",
        "```\n",
        "\n",
        "**example output**\n",
        "```python\n",
        "1.0\n",
        "```\n",
        "\n",
        "**Explaination**\n",
        "\n",
        "$$ \\sqrt{\\frac{(1-2)^2 + (2-2)^2  + (3-2)^2}{3-1}} = 1 $$"
      ]
    },
    {
      "cell_type": "code",
      "execution_count": null,
      "metadata": {
        "id": "1VbfOVUI6g-E"
      },
      "outputs": [],
      "source": [
        "# อยากเริ่มเขียนตรงนี้ก็ได้นะ\n",
        "\n",
        "def my_square_root(x):\n",
        "    # เริ่มเขียน code ตรงนี้เลย\n",
        "    return x"
      ]
    },
    {
      "cell_type": "markdown",
      "metadata": {
        "id": "xmmAdePS6g-G"
      },
      "source": [
        "## Quesion 2: Unrealistic Radioactive decay with rabbit\n",
        "\n",
        "Mass ของ Radioactive จะค่อยลดลงไปครึ่งนึงทุก x วัน (ถ้าไม่ถึง x วันจะไม่ลดเลย) โดยทุกๆวันที่ 10 (วันที่ 10, 20, 30, ...) จะมีกระต่ายมาขโมย radioactive ของเราไป 2 gram ถ้ากระต่ายมาขโมย radioactive ของเราตรงกับวันที่ radioactive decay พอดีกระต่ายจะตกใจเนื่องจาก radioactive ขยับไปมา จึงทำให้กระต่ายไม่ขโมย radioactive ของเราในวันนั้น\n",
        "\n",
        "จงเขียน function ชื่อ radioactive_decay เพื่อรับ input 3 ค่า\n",
        "\n",
        "1.   initial_mass เป็น float: ค่าแรกรับ initial mass (หน่วยเป็น gram สามารถเป็น float ได้) ของ radioactive\n",
        "2.   x เป็น integer: วันที่ radioactive จะลดลงทุกๆ x วัน\n",
        "3.   day_pass เป็น integer: จำนวนวันที่สนใจ\n",
        "-   output ของ function จะเป็น mass ที่เหลืออยู่ (mass ไม่ติดลบ)\n",
        "\n",
        "\n",
        "**example input 1**\n",
        "```python\n",
        "initial_mass = 6\n",
        "x = 5\n",
        "day_pass = 2\n",
        "radioactive_decay(initial_mass, x , day_pass)\n",
        "```\n",
        "\n",
        "**example output 1**\n",
        "```python\n",
        "6\n",
        "```\n",
        "\n",
        "**Explaination 1**\n",
        "\n",
        "mass จะลดลงไปทุกๆ 5 วัน แต่วันที่สนใจเป็นวันที่ 2 mass จึงไม่ลดลง\n",
        "\n",
        "**example input 2**\n",
        "```python\n",
        "initial_mass = 64\n",
        "x = 4\n",
        "day_pass = 22\n",
        "radioactive_decay(initial_mass, x , day_pass)\n",
        "```\n",
        "\n",
        "**example output 2**\n",
        "```python\n",
        "1.75\n",
        "```\n",
        "\n",
        "**Explaination 2**\n",
        "\n",
        "วันที่ 4 เหลือ 32.0\n",
        "\n",
        "วันที่ 8 เหลือ 16.0\n",
        "\n",
        "วันที่ 10 เหลือ 14.0 (กระต่ายขโมย)\n",
        "\n",
        "วันที่ 12 เหลือ 7.0\n",
        "\n",
        "วันที่ 16 เหลือ 3.5\n",
        "\n",
        "วันที่ 20 เหลือ 1.75 (กระต่ายไม่ขโมย)\n",
        "\n",
        "\n",
        "**example input 3**\n",
        "```python\n",
        "initial_mass = 2\n",
        "x = 6\n",
        "day_pass = 12\n",
        "radioactive_decay(initial_mass, x , day_pass)\n",
        "```\n",
        "\n",
        "**example output 3**\n",
        "```python\n",
        "0\n",
        "```\n",
        "\n",
        "**Explaination 3**\n",
        "\n",
        "วันที่ 6 เหลือ 1.0\n",
        "\n",
        "วันที่ 10 เหลือ 0.0 (กระต่ายขโมยได้แค่ 1 gram)\n",
        "\n",
        "วันที่ 12 เหลือ 0.0"
      ]
    },
    {
      "cell_type": "code",
      "execution_count": null,
      "metadata": {
        "id": "Y1eqHab66g-I"
      },
      "outputs": [],
      "source": [
        "# อยากเริ่มเขียนตรงนี้ก็ได้นะ\n",
        "\n",
        "def radioactive_decay(initial_mass, x , day_pass):\n",
        "    # เริ่มเขียน code ตรงนี้เลย\n",
        "    return initial_mass"
      ]
    },
    {
      "cell_type": "markdown",
      "metadata": {
        "id": "QqXic49l6g-J"
      },
      "source": [
        "## Question 3: Simple biological equivalent dose\n",
        "\n",
        "การฉายรังสี dose ที่ผู้ป่วยได้รับสามารถแปลงเป็น biological dose (BED) ได้จากสมการ\n",
        "\n",
        "$$BED = nd(1+ \\frac{d}{\\alpha/ \\beta})$$\n",
        "\n",
        "โดย $d$ เป็น dose ที่ผู้ป่วยได้รับ per fraction และ n เป็นจำนวน fraction ที่ผู้ป่วยถูกฉายรังสี $\\alpha / \\beta$ เป็นค่าคงที่ โดยในที่นี้ $\\alpha / \\beta = 3$\n",
        "\n",
        "จงเขียน function biological_dose เพื่อรับ input 2 ค่า\n",
        "1.  d เป็น list of list of float: dose ที่ผู้ป่วยได้รับในแต่ละ fraction ซึ่งจะเป็น list of list ที่เก็บข้อมูล ประเภท float ไว้\n",
        "2.  n เป็น integer: จำนวน fraction\n",
        "-   โดยให้ $\\alpha / \\beta = 3$\n",
        "-   output จะเป็น list of list ที่มีลักษณะ (shape ) ตรงกับ d\n",
        "\n",
        "\n",
        "**example input**\n",
        "```python\n",
        "d = [[3,6],[9,12]]\n",
        "n = 2\n",
        "biological_dose(d, n)\n",
        "```\n",
        "\n",
        "**example output**\n",
        "```python\n",
        "[[ 12.,  36.], [ 72., 120.]]\n",
        "```\n",
        "\n",
        "**Explaination**\n",
        "\n",
        "$$ 3*2*(1+3/3) = 12 $$\n",
        "$$ 6*2*(1+6/3) = 36 $$\n",
        "$$ 9*2*(1+9/3) = 72 $$\n",
        "$$ 12*2*(1+12/3) = 120 $$"
      ]
    },
    {
      "cell_type": "code",
      "execution_count": null,
      "metadata": {
        "id": "sKrxlAgi6g-L"
      },
      "outputs": [],
      "source": [
        "# อยากเริ่มเขียนตรงนี้ก็ได้นะ\n",
        "\n",
        "def biological_dose(d, n):\n",
        "    # เริ่มเขียน code ตรงนี้เลย\n",
        "    return"
      ]
    },
    {
      "cell_type": "markdown",
      "metadata": {
        "id": "KHeITe3Y6g-M"
      },
      "source": [
        "## Question 4: Simple Multiplication\n",
        "\n",
        "หาผลคูณของตัวเลขทั้งหมดใน list\n",
        "\n",
        "จงเขียน function simple_multiplication เพื่อรับ input 1 ค่าเป็น list แล้วหาผลคูณของตัวเลขทั้งหมดใน list นั้น โดยจะยกเว้นเลข 0\n",
        "\n",
        "1.  num_list เป็น list ของตัวเลข\n",
        "\n",
        "output ผลคูณทั้งหมดของเลขใน list ยกเว้นเลข 0\n",
        "\n",
        "**example input**\n",
        "```python\n",
        "num_list = [1,2,6,0]\n",
        "simple_multiplication(num_list)\n",
        "```\n",
        "\n",
        "**example output**\n",
        "```python\n",
        "12\n",
        "```\n",
        "\n",
        "**Explaination**\n",
        "\n",
        "$1 \\times 2 \\times 6 = 12$"
      ]
    },
    {
      "cell_type": "code",
      "execution_count": null,
      "metadata": {
        "id": "b8yPle_z6g-N"
      },
      "outputs": [],
      "source": [
        "# อยากเริ่มเขียนตรงนี้ก็ได้นะ\n",
        "\n",
        "def simple_multiplication(num_list):\n",
        "    # เริ่มเขียน code ตรงนี้เลย\n",
        "    return"
      ]
    },
    {
      "cell_type": "code",
      "execution_count": null,
      "metadata": {
        "id": "oZiWQiL46g-O"
      },
      "outputs": [],
      "source": []
    }
  ],
  "metadata": {
    "kernelspec": {
      "display_name": "base",
      "language": "python",
      "name": "python3"
    },
    "language_info": {
      "codemirror_mode": {
        "name": "ipython",
        "version": 3
      },
      "file_extension": ".py",
      "mimetype": "text/x-python",
      "name": "python",
      "nbconvert_exporter": "python",
      "pygments_lexer": "ipython3",
      "version": "3.9.7"
    },
    "orig_nbformat": 4,
    "colab": {
      "provenance": [],
      "include_colab_link": true
    }
  },
  "nbformat": 4,
  "nbformat_minor": 0
}