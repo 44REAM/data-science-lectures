{
  "nbformat": 4,
  "nbformat_minor": 0,
  "metadata": {
    "colab": {
      "provenance": [],
      "authorship_tag": "ABX9TyMqphrrWF3tg7SrKHQ3iPHc",
      "include_colab_link": true
    },
    "kernelspec": {
      "name": "python3",
      "display_name": "Python 3"
    },
    "language_info": {
      "name": "python"
    }
  },
  "cells": [
    {
      "cell_type": "markdown",
      "metadata": {
        "id": "view-in-github",
        "colab_type": "text"
      },
      "source": [
        "<a href=\"https://colab.research.google.com/github/44REAM/RA-Medphys/blob/main/Class_1_Quiz.ipynb\" target=\"_parent\"><img src=\"https://colab.research.google.com/assets/colab-badge.svg\" alt=\"Open In Colab\"/></a>"
      ]
    },
    {
      "cell_type": "markdown",
      "source": [
        "## Quiz 1\n",
        "\n",
        "เขียน function ชื่อว่า your_function บวกเลขจำนวนเต็มตั้งแต่ 0 ถึง x เช่น\n",
        "\n",
        "input\n",
        "```\n",
        "your_function(5)\n",
        "```\n",
        "output:\n",
        "```\n",
        "15\n",
        "```\n",
        "Explaination: 1+2+3+4+5 = 15\n",
        "\n",
        "Note: ตั้งชื่อ function ให้ตรงกับข้างบนด้วย (ชื่อ your_function)"
      ],
      "metadata": {
        "id": "fCGRTh5Xs3Hu"
      }
    },
    {
      "cell_type": "code",
      "execution_count": null,
      "metadata": {
        "id": "cuoqc724sEv6"
      },
      "outputs": [],
      "source": [
        "# เริ่มเขียน Quiz 1 ล่างนี้\n",
        "\n",
        "\n",
        "\n",
        "# สิ้นสุดการเขียน code\n",
        "\n",
        "assert your_function(6) == 21"
      ]
    },
    {
      "cell_type": "markdown",
      "source": [
        "# Quiz 2\n",
        "\n",
        "ให้เขียน function ชื่อว่า your_function เพื่อที่จะคำนวณสมการ $f(x) = x^2 + 3x + 1$\n",
        "\n",
        "input\n",
        "```\n",
        "your_function(2)\n",
        "```\n",
        "output:\n",
        "```\n",
        "11\n",
        "```\n",
        "\n"
      ],
      "metadata": {
        "id": "SAcboYhburtT"
      }
    },
    {
      "cell_type": "code",
      "source": [
        "# เริ่มเขียน Quiz 2 ล่างนี้\n",
        "\n",
        "\n",
        "\n",
        "# สิ้นสุดการเขียน code\n",
        "\n",
        "assert your_function(2) == 11"
      ],
      "metadata": {
        "id": "eATNdRbQvCkC"
      },
      "execution_count": null,
      "outputs": []
    },
    {
      "cell_type": "markdown",
      "source": [
        "# Quiz 3\n",
        "\n",
        "ให้เขียน function ชื่อว่า your_function เพื่อที่จะคำนวณสมการ $f(x) = |x|$\n",
        "\n",
        "input\n",
        "```\n",
        "your_function(-15)\n",
        "```\n",
        "output:\n",
        "```\n",
        "15\n",
        "```"
      ],
      "metadata": {
        "id": "NdrtWPHovOTA"
      }
    },
    {
      "cell_type": "code",
      "source": [
        "# เริ่มเขียน Quiz 2 ล่างนี้\n",
        "\n",
        "\n",
        "\n",
        "# สิ้นสุดการเขียน code\n",
        "\n",
        "assert your_function(12) == 12"
      ],
      "metadata": {
        "id": "wOkoBncgvkO4"
      },
      "execution_count": null,
      "outputs": []
    },
    {
      "cell_type": "markdown",
      "source": [
        "# Quiz 4"
      ],
      "metadata": {
        "id": "gpbzcoiPvyKu"
      }
    }
  ]
}